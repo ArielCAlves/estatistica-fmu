{
 "cells": [
  {
   "cell_type": "markdown",
   "id": "7242210b",
   "metadata": {},
   "source": [
    "## Atividade 1 de Análise de Regressão Univariada\n",
    "### Aluno: Ariel Carvalho Alves\n",
    "### Graduação: Estatística"
   ]
  },
  {
   "cell_type": "code",
   "execution_count": 1,
   "id": "88884677",
   "metadata": {},
   "outputs": [],
   "source": [
    "import pandas as pd\n",
    "import scipy.stats\n",
    "import matplotlib.pyplot as plt"
   ]
  },
  {
   "cell_type": "code",
   "execution_count": 2,
   "id": "6016f720",
   "metadata": {},
   "outputs": [],
   "source": [
    "estado = ['Estado1',\n",
    "          'Piauí',\n",
    "          'Estado2',\n",
    "          'Estado3',\n",
    "          'Ceará',\n",
    "          'Estado4',\n",
    "          'Estado5',\n",
    "          'Estado6',\n",
    "          'Sergipe',\n",
    "          'Estado7',\n",
    "          'Estado8',\n",
    "          'Estado9',\n",
    "          'Estado10',\n",
    "          'Estado11',\n",
    "          'Estado12',\n",
    "          'Estado13',\n",
    "          'Minas Gerais',\n",
    "          'Estado14',\n",
    "          'Estado15',\n",
    "          'Estado16',\n",
    "          'Estado17',\n",
    "          'Estado18',\n",
    "          'Estado19',\n",
    "          'Estado20',\n",
    "          'Rio de Janeiro',\n",
    "          'São Paulo',\n",
    "          'DF']\n",
    "renda = [70, 80, 80, 90, 110, 100, 125, 120, 110, 165, 115, 125, 115, 115, 215, 215, 190, 180, 215, 210, 235, 160, 260, 250, 265, 315, 450]\n",
    "anos = [4, 4, 4.2, 4.4, 4.5, 4.55, 4.6, 4.65, 4.7, 4.85, 4.9, 5, 5.1, 5.5, 5.4, 5.5, 5.55, 5.6, 5.65, 5.8, 6, 6.1, 6.2, 6.35, 7.2, 7, 8.3]"
   ]
  },
  {
   "cell_type": "code",
   "execution_count": 3,
   "id": "03f3081f",
   "metadata": {},
   "outputs": [],
   "source": [
    "df = pd.DataFrame({'Estado':estado, 'Renda_Per_Capta':renda, 'Anos_Escolaridade':anos})\n",
    "df.set_index('Estado', inplace=True)"
   ]
  },
  {
   "cell_type": "code",
   "execution_count": 4,
   "id": "69004171",
   "metadata": {
    "scrolled": true
   },
   "outputs": [
    {
     "data": {
      "text/html": [
       "<div>\n",
       "<style scoped>\n",
       "    .dataframe tbody tr th:only-of-type {\n",
       "        vertical-align: middle;\n",
       "    }\n",
       "\n",
       "    .dataframe tbody tr th {\n",
       "        vertical-align: top;\n",
       "    }\n",
       "\n",
       "    .dataframe thead th {\n",
       "        text-align: right;\n",
       "    }\n",
       "</style>\n",
       "<table border=\"1\" class=\"dataframe\">\n",
       "  <thead>\n",
       "    <tr style=\"text-align: right;\">\n",
       "      <th></th>\n",
       "      <th>Renda_Per_Capta</th>\n",
       "      <th>Anos_Escolaridade</th>\n",
       "    </tr>\n",
       "    <tr>\n",
       "      <th>Estado</th>\n",
       "      <th></th>\n",
       "      <th></th>\n",
       "    </tr>\n",
       "  </thead>\n",
       "  <tbody>\n",
       "    <tr>\n",
       "      <th>Estado1</th>\n",
       "      <td>70</td>\n",
       "      <td>4.0</td>\n",
       "    </tr>\n",
       "    <tr>\n",
       "      <th>Piauí</th>\n",
       "      <td>80</td>\n",
       "      <td>4.0</td>\n",
       "    </tr>\n",
       "    <tr>\n",
       "      <th>Estado2</th>\n",
       "      <td>80</td>\n",
       "      <td>4.2</td>\n",
       "    </tr>\n",
       "    <tr>\n",
       "      <th>Estado3</th>\n",
       "      <td>90</td>\n",
       "      <td>4.4</td>\n",
       "    </tr>\n",
       "    <tr>\n",
       "      <th>Ceará</th>\n",
       "      <td>110</td>\n",
       "      <td>4.5</td>\n",
       "    </tr>\n",
       "  </tbody>\n",
       "</table>\n",
       "</div>"
      ],
      "text/plain": [
       "         Renda_Per_Capta  Anos_Escolaridade\n",
       "Estado                                     \n",
       "Estado1               70                4.0\n",
       "Piauí                 80                4.0\n",
       "Estado2               80                4.2\n",
       "Estado3               90                4.4\n",
       "Ceará                110                4.5"
      ]
     },
     "execution_count": 4,
     "metadata": {},
     "output_type": "execute_result"
    }
   ],
   "source": [
    "df.head()"
   ]
  },
  {
   "cell_type": "code",
   "execution_count": 5,
   "id": "bad47866",
   "metadata": {},
   "outputs": [],
   "source": [
    "y = df['Renda_Per_Capta']\n",
    "x = df['Anos_Escolaridade']\n",
    "correlation_coef, p_value = scipy.stats.pearsonr(x, y)\n",
    "alpha=0.05"
   ]
  },
  {
   "cell_type": "code",
   "execution_count": 6,
   "id": "542340bc",
   "metadata": {
    "scrolled": true
   },
   "outputs": [
    {
     "name": "stdout",
     "output_type": "stream",
     "text": [
      "Coeficiente de correlação de Pearson:0.9414\n",
      "Valor p: 2.630043785897898e-13\n"
     ]
    }
   ],
   "source": [
    "print(f'Coeficiente de correlação de Pearson:{correlation_coef:.4f}')\n",
    "print(f'Valor p: {p_value}')"
   ]
  },
  {
   "cell_type": "code",
   "execution_count": 7,
   "id": "d49bdfa6",
   "metadata": {
    "scrolled": true
   },
   "outputs": [
    {
     "data": {
      "image/png": "[encoded data removed]",
      "text/plain": [
       "<Figure size 432x288 with 1 Axes>"
      ]
     },
     "metadata": {
      "needs_background": "light"
     },
     "output_type": "display_data"
    }
   ],
   "source": [
    "plt.scatter(x, y)\n",
    "plt.xlabel('Renda Per Capta')\n",
    "plt.ylabel('Anos de Escolaridade')\n",
    "plt.title('Gráfico de Dispersão - Correlação de Pearson')\n",
    "\n",
    "plt.show()"
   ]
  },
  {
   "cell_type": "code",
   "execution_count": 8,
   "id": "6fa6eef3",
   "metadata": {},
   "outputs": [
    {
     "name": "stdout",
     "output_type": "stream",
     "text": [
      "Rejeitar a hipótese nula (H0)\n"
     ]
    }
   ],
   "source": [
    "if p_value < alpha:\n",
    "    print(\"Rejeitar a hipótese nula (H0)\")\n",
    "else:\n",
    "    print(\"Não rejeitar a hipótese nula (H0)\")"
   ]
  },
  {
   "cell_type": "markdown",
   "id": "16f9dd00",
   "metadata": {},
   "source": [
    "#### O coeficiente de correlação é de 0,9414, ou seja, é diretamente proporcional e forte. Isso indica que existe uma relação linear entre as duas variáveis, mas o coeficiente de correlação Pearson apenas mede a força e a direção dessa relação, não estabelece uma relação causal direta.\n",
    "#### Executei o teste de hipótese com o valor p tendo como base o nível de significância de 0,05 e o resultado foi de rejeição da hipótese nula (H0), pois há evidências estatísticas para suportar a hipótese alternativa (H1). Logo, há uma tendência de que quanto mais anos dedicados aos estudos, maior é a renda per capta desse conjunto de dados. No entanto, é importante ressaltar que não implica necessariamente em causaldiade e existem outros fatores que podem influenciar a renda de uma pessoa."
   ]
  }
 ],
 "metadata": {
  "kernelspec": {
   "display_name": "Python 3 (ipykernel)",
   "language": "python",
   "name": "python3"
  },
  "language_info": {
   "codemirror_mode": {
    "name": "ipython",
    "version": 3
   },
   "file_extension": ".py",
   "mimetype": "text/x-python",
   "name": "python",
   "nbconvert_exporter": "python",
   "pygments_lexer": "ipython3",
   "version": "3.9.12"
  }
 },
 "nbformat": 4,
 "nbformat_minor": 5
}
