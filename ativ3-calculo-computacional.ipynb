{
 "cells": [
  {
   "cell_type": "markdown",
   "id": "1f090bd0",
   "metadata": {},
   "source": [
    "## Atividade 1 de Cálculo Numérico Computacional\n",
    "### Aluno: Ariel Carvalho Alves\n",
    "### Graduação: Estatística"
   ]
  },
  {
   "cell_type": "code",
   "execution_count": 1,
   "id": "69856125",
   "metadata": {},
   "outputs": [
    {
     "name": "stdout",
     "output_type": "stream",
     "text": [
      "Calor específico da água a 27.5 graus Celsius: 0.9984\n"
     ]
    }
   ],
   "source": [
    "def lagrangeInterpolation(x, x_values, y_values):\n",
    "    n = len(x_values)\n",
    "    result = 0.0\n",
    "\n",
    "    for i in range(n):\n",
    "        term = y_values[i]\n",
    "        for j in range(n):\n",
    "            if j != i:\n",
    "                term *= (x - x_values[j]) / (x_values[i] - x_values[j])\n",
    "        result += term\n",
    "\n",
    "    return result\n",
    "\n",
    "# Dados da tabela\n",
    "x_values = [20, 25, 30, 35]\n",
    "y_values = [0.99907, 0.99852, 0.99826, 0.99818]\n",
    "\n",
    "# Valor a ser interpolado\n",
    "x_interpolate = 27.5\n",
    "\n",
    "# Calculando o resultado da interpolação\n",
    "interpolated_value = lagrangeInterpolation(x_interpolate, x_values, y_values)\n",
    "\n",
    "print(f'Calor específico da água a 27.5 graus Celsius: {interpolated_value:.4f}')"
   ]
  }
 ],
 "metadata": {
  "kernelspec": {
   "display_name": "Python 3 (ipykernel)",
   "language": "python",
   "name": "python3"
  },
  "language_info": {
   "codemirror_mode": {
    "name": "ipython",
    "version": 3
   },
   "file_extension": ".py",
   "mimetype": "text/x-python",
   "name": "python",
   "nbconvert_exporter": "python",
   "pygments_lexer": "ipython3",
   "version": "3.9.12"
  }
 },
 "nbformat": 4,
 "nbformat_minor": 5
}
