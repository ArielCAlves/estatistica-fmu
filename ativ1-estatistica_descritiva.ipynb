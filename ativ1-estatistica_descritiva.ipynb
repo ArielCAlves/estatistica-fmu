{
 "cells": [
  {
   "cell_type": "markdown",
   "id": "e86c1dcf",
   "metadata": {},
   "source": [
    "## Atividade 1 - Estatística Descritiva\n",
    "### Aluno: Ariel Carvalho Alves"
   ]
  },
  {
   "cell_type": "code",
   "execution_count": 1,
   "id": "b9f90a4b",
   "metadata": {},
   "outputs": [],
   "source": [
    "def amplitude(amp):\n",
    "    maximo = max(lista)\n",
    "    minimo = min(lista)\n",
    "    amp = maximo - minimo\n",
    "    return amp\n",
    "\n",
    "def media(elementos):\n",
    "    soma = sum(elementos)\n",
    "    qtde = len(elementos)\n",
    "    media = soma/qtde\n",
    "    return media\n",
    "\n",
    "def mediana(elementos):\n",
    "    qtde = len(elementos)\n",
    "    elementos.sort()    \n",
    "    if qtde % 2 == 0:\n",
    "        x = qtde/2\n",
    "        y = (qtde/2) + 1\n",
    "        x = int(x) - 1\n",
    "        y = int(y) - 1\n",
    "        mediana = (elementos[x] + elementos[y])/2\n",
    "    else:\n",
    "        z = (qtde+1)/2\n",
    "        z = int(z - 1)\n",
    "        mediana = elementos[z]\n",
    "    return mediana\n",
    "\n",
    "def moda(elementos):\n",
    "    from collections import Counter\n",
    "    contador = Counter(elementos)\n",
    "    moda = contador.most_common(1)\n",
    "    return moda[0][0]\n",
    "def histograma(minhaLista):\n",
    "    from matplotlib import pyplot as plt \n",
    "    fig, ax = plt.subplots(figsize =(10, 7)) \n",
    "    ax.hist(minhaLista, bins = [0, 25, 50, 75, 100]) \n",
    "    return plt.show()"
   ]
  },
  {
   "cell_type": "code",
   "execution_count": 2,
   "id": "c81f90ae",
   "metadata": {},
   "outputs": [],
   "source": [
    "lista = [61,52,65,84,35,57,58,95,82,64,50,53,103,40,\n",
    "         62,77,78,66,60,41,58,92,51,65,71,75,89,37,54,\n",
    "         67,59,79,80,73,49,71,97,62,68,53,43,80,75,70,\n",
    "         45,91,50,64,56,86]"
   ]
  },
  {
   "cell_type": "code",
   "execution_count": 3,
   "id": "ecffd2f0",
   "metadata": {
    "scrolled": true
   },
   "outputs": [
    {
     "name": "stdout",
     "output_type": "stream",
     "text": [
      "A amplitude é: 68\n",
      "A média é: 65.86\n",
      "A mediana é: 64.5\n",
      "A moda é: 50\n"
     ]
    }
   ],
   "source": [
    "print(f'A amplitude é: {amplitude(lista)}')\n",
    "print(f'A média é: {media(lista)}')\n",
    "print(f'A mediana é: {mediana(lista)}')\n",
    "print(f'A moda é: {moda(lista)}')"
   ]
  },
  {
   "cell_type": "code",
   "execution_count": 4,
   "id": "52f8f4be",
   "metadata": {},
   "outputs": [
    {
     "data": {
      "image/png": "[encoded data removed]",
      "text/plain": [
       "<Figure size 720x504 with 1 Axes>"
      ]
     },
     "metadata": {
      "needs_background": "light"
     },
     "output_type": "display_data"
    }
   ],
   "source": [
    "histograma(lista)"
   ]
  }
 ],
 "metadata": {
  "kernelspec": {
   "display_name": "Python 3",
   "language": "python",
   "name": "python3"
  },
  "language_info": {
   "codemirror_mode": {
    "name": "ipython",
    "version": 3
   },
   "file_extension": ".py",
   "mimetype": "text/x-python",
   "name": "python",
   "nbconvert_exporter": "python",
   "pygments_lexer": "ipython3",
   "version": "3.10.4"
  }
 },
 "nbformat": 4,
 "nbformat_minor": 5
}
