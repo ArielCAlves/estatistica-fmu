{
 "cells": [
  {
   "cell_type": "markdown",
   "id": "d1e7b583",
   "metadata": {},
   "source": [
    "## Atividade 3\n",
    "### Aluno: Ariel Carvalho Alves"
   ]
  },
  {
   "cell_type": "code",
   "execution_count": 1,
   "id": "6fe8a146",
   "metadata": {},
   "outputs": [],
   "source": [
    "from random import uniform, sample"
   ]
  },
  {
   "cell_type": "code",
   "execution_count": 2,
   "id": "43ba1a42",
   "metadata": {},
   "outputs": [],
   "source": [
    "contador = 0\n",
    "notas = []\n",
    "while contador < 30:    \n",
    "    notas.append(round(uniform(0, 9),2))\n",
    "    contador+=1\n",
    "def calculaMedia(x):\n",
    "    comprimento = len(x)\n",
    "    somatorio = 0\n",
    "    for i in x:\n",
    "        somatorio += i\n",
    "    media = somatorio/comprimento\n",
    "    media = round(media,2)\n",
    "    return media\n",
    "def selecionaAmostraAleatoria(y):\n",
    "    amostra = sample(y,5)\n",
    "    return amostra"
   ]
  },
  {
   "cell_type": "code",
   "execution_count": 3,
   "id": "98f70f84",
   "metadata": {},
   "outputs": [],
   "source": [
    "amostra1 = selecionaAmostraAleatoria(notas)\n",
    "media1 = calculaMedia(amostra1)\n",
    "amostra2 = selecionaAmostraAleatoria(notas)\n",
    "media2 = calculaMedia(amostra2)\n",
    "amostra3 = selecionaAmostraAleatoria(notas)\n",
    "media3 = calculaMedia(amostra3)\n",
    "amostra4 = selecionaAmostraAleatoria(notas)\n",
    "media4 = calculaMedia(amostra4)\n",
    "amostra5 = selecionaAmostraAleatoria(notas)\n",
    "media5 = calculaMedia(amostra5)\n",
    "media = calculaMedia(notas)"
   ]
  },
  {
   "cell_type": "code",
   "execution_count": 4,
   "id": "24a6ffeb",
   "metadata": {
    "scrolled": true
   },
   "outputs": [
    {
     "name": "stdout",
     "output_type": "stream",
     "text": [
      "A Média das notas é de 5.25\n",
      "\n",
      "Amostra Selecionada: [8.47, 1.41, 6.04, 3.45, 4.15]\n",
      "Média da Amostra Selecionada:4.7\n",
      "Diferença da Média da População para Amostra: 0.55\n",
      "\n",
      "Amostra Selecionada: [7.59, 6.04, 2.05, 7.36, 5.09]\n",
      "Média da Amostra Selecionada:5.63\n",
      "Diferença da Média da População para Amostra: 0.38\n",
      "\n",
      "Amostra Selecionada: [7.11, 3.63, 7.59, 4.15, 7.36]\n",
      "Média da Amostra Selecionada:5.97\n",
      "Diferença da Média da População para Amostra: 0.72\n",
      "\n",
      "Amostra Selecionada: [5.48, 6.65, 3.63, 6.04, 7.11]\n",
      "Média da Amostra Selecionada:5.78\n",
      "Diferença da Média da População para Amostra: 0.53\n",
      "\n",
      "Amostra Selecionada: [4.08, 3.4, 1.96, 8.47, 1.41]\n",
      "Média da Amostra Selecionada:3.86\n",
      "Diferença da Média da População para Amostra: 1.39\n",
      "\n"
     ]
    }
   ],
   "source": [
    "print(f'A Média das notas é de {media}')\n",
    "print()\n",
    "print(f'Amostra Selecionada: {amostra1}\\nMédia da Amostra Selecionada:{media1}')\n",
    "print(f'Diferença da Média da População para Amostra: {abs(media-media1):.2f}')\n",
    "print()\n",
    "print(f'Amostra Selecionada: {amostra2}\\nMédia da Amostra Selecionada:{media2}')\n",
    "print(f'Diferença da Média da População para Amostra: {abs(media-media2):.2f}')\n",
    "print()\n",
    "print(f'Amostra Selecionada: {amostra3}\\nMédia da Amostra Selecionada:{media3}')\n",
    "print(f'Diferença da Média da População para Amostra: {abs(media-media3):.2f}')\n",
    "print()\n",
    "print(f'Amostra Selecionada: {amostra4}\\nMédia da Amostra Selecionada:{media4}')\n",
    "print(f'Diferença da Média da População para Amostra: {abs(media-media4):.2f}')\n",
    "print()\n",
    "print(f'Amostra Selecionada: {amostra5}\\nMédia da Amostra Selecionada:{media5}')\n",
    "print(f'Diferença da Média da População para Amostra: {abs(media-media5):.2f}')\n",
    "print()"
   ]
  },
  {
   "cell_type": "markdown",
   "id": "faf28c71",
   "metadata": {},
   "source": [
    "### OBS\n",
    "#### A média que mais se aproximou foi a da segunda amostra selecionada.\n",
    "#### Vale salientar que quanto maior a amostra selecionada, maior confiabilidade será gerada em relação aos dados da população"
   ]
  }
 ],
 "metadata": {
  "kernelspec": {
   "display_name": "Python 3",
   "language": "python",
   "name": "python3"
  },
  "language_info": {
   "codemirror_mode": {
    "name": "ipython",
    "version": 3
   },
   "file_extension": ".py",
   "mimetype": "text/x-python",
   "name": "python",
   "nbconvert_exporter": "python",
   "pygments_lexer": "ipython3",
   "version": "3.10.4"
  }
 },
 "nbformat": 4,
 "nbformat_minor": 5
}
