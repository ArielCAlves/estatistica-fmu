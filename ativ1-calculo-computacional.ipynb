{
 "cells": [
  {
   "cell_type": "markdown",
   "id": "0d52d0dc",
   "metadata": {},
   "source": [
    "## Atividade 1 de Cálculo Numérico Computacional\n",
    "### Aluno: Ariel Carvalho Alves\n",
    "### Graduação: Estatística"
   ]
  },
  {
   "cell_type": "code",
   "execution_count": 1,
   "id": "332c62e7",
   "metadata": {},
   "outputs": [
    {
     "data": {
      "image/png": "[encoded data removed]",
      "text/plain": [
       "<Figure size 432x288 with 1 Axes>"
      ]
     },
     "metadata": {
      "needs_background": "light"
     },
     "output_type": "display_data"
    },
    {
     "name": "stdout",
     "output_type": "stream",
     "text": [
      "O tempo que o objeto leva para atingir o solo é de aproximadamente 3.3286 segundos.\n"
     ]
    }
   ],
   "source": [
    "import math\n",
    "import matplotlib.pyplot as plt\n",
    "import numpy as np\n",
    "\n",
    "def formula(t):\n",
    "    m = 2\n",
    "    S0 = 40\n",
    "    k = 0.6\n",
    "    g = 9.81\n",
    "    \n",
    "    return S0 - ((m * g / k) * t) + ((m ** 2 * g / k ** 2) * (1 - math.exp(-k * t / m)))\n",
    "\n",
    "def bissectionMethod(a, b, epsilon):\n",
    "    if formula(a) * formula(b) >= 0:\n",
    "        print('Não é possível aplicar o método da bisseção no intervalo fornecido.')\n",
    "        return None\n",
    "\n",
    "    while (b - a) >= epsilon:\n",
    "        c = (a + b) / 2\n",
    "        if formula(c) == 0:\n",
    "            return c\n",
    "        elif formula(c) * formula(a) < 0:\n",
    "            b = c\n",
    "        else:\n",
    "            a = c\n",
    "\n",
    "    return (a + b) / 2\n",
    "\n",
    "a = 0  # limite inferior do intervalo\n",
    "b = 10  # limite superior do intervalo\n",
    "epsilon = 0.001  # tolerância\n",
    "\n",
    "resultado = bissectionMethod(a, b, epsilon)\n",
    "\n",
    "# Plotar o gráfico\n",
    "t = np.linspace(0, resultado, 100)  # Intervalo de tempo de 0 até o resultado\n",
    "s = [formula(ti) for ti in t]  # Valores da altura para cada valor de tempo\n",
    "\n",
    "plt.plot(t, s)\n",
    "plt.xlabel('Tempo (s)')\n",
    "plt.ylabel('Altura (m)')\n",
    "plt.title('Gráfico da altura em função do tempo')\n",
    "plt.grid(True)\n",
    "plt.show()\n",
    "\n",
    "if resultado is not None:\n",
    "    print(f'O tempo que o objeto leva para atingir o solo é de aproximadamente {resultado:.4f} segundos.')"
   ]
  }
 ],
 "metadata": {
  "kernelspec": {
   "display_name": "Python 3 (ipykernel)",
   "language": "python",
   "name": "python3"
  },
  "language_info": {
   "codemirror_mode": {
    "name": "ipython",
    "version": 3
   },
   "file_extension": ".py",
   "mimetype": "text/x-python",
   "name": "python",
   "nbconvert_exporter": "python",
   "pygments_lexer": "ipython3",
   "version": "3.9.12"
  }
 },
 "nbformat": 4,
 "nbformat_minor": 5
}
