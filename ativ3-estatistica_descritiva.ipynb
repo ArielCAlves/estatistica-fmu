{
 "cells": [
  {
   "cell_type": "markdown",
   "id": "a09f0848",
   "metadata": {},
   "source": [
    "## Atividade 3 - Estatística Descritiva\n",
    "### Aluno: Ariel Carvalho Alves"
   ]
  },
  {
   "cell_type": "code",
   "execution_count": 1,
   "id": "d51a5388",
   "metadata": {},
   "outputs": [],
   "source": [
    "from scipy.stats import binom"
   ]
  },
  {
   "cell_type": "code",
   "execution_count": 2,
   "id": "117fb2fc",
   "metadata": {},
   "outputs": [
    {
     "name": "stdout",
     "output_type": "stream",
     "text": [
      "Valor\t Probabilidade\n",
      "P(6,0)\t0.11764899999999996\n",
      "P(6,1)\t0.30252599999999974\n",
      "P(6,2)\t0.3241349999999999\n",
      "P(6,3)\t0.1852199999999999\n",
      "P(6,4)\t0.059535\n",
      "P(6,5)\t0.010206000000000002\n",
      "P(6,6)\t0.0007289999999999998\n"
     ]
    }
   ],
   "source": [
    "n = 6\n",
    "sucesso = 0.3\n",
    "valores = list(range(n + 1)) \n",
    "dist = [binom.pmf(r, n, sucesso) for r in valores ] \n",
    "print('Valor\\t Probabilidade') \n",
    "for i in range(n + 1): \n",
    "    print(f'P(6,{str(valores[i])})\\t{str(dist[i])}') "
   ]
  }
 ],
 "metadata": {
  "kernelspec": {
   "display_name": "Python 3",
   "language": "python",
   "name": "python3"
  },
  "language_info": {
   "codemirror_mode": {
    "name": "ipython",
    "version": 3
   },
   "file_extension": ".py",
   "mimetype": "text/x-python",
   "name": "python",
   "nbconvert_exporter": "python",
   "pygments_lexer": "ipython3",
   "version": "3.10.4"
  }
 },
 "nbformat": 4,
 "nbformat_minor": 5
}
